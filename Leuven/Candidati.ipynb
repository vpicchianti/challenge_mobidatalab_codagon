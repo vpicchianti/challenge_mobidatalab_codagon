{
 "cells": [
  {
   "cell_type": "code",
   "execution_count": 106,
   "metadata": {},
   "outputs": [],
   "source": [
    "import geopandas as gpd\n",
    "import fiona\n",
    "import osmnx as ox\n",
    "import folium\n",
    "from fiona.model import to_dict\n",
    "from shapely.geometry import shape\n",
    "from branca.colormap import LinearColormap\n",
    "import numpy as np\n",
    "import networkx as nx\n",
    "import pandas as pd\n",
    "\n",
    "import matplotlib.pyplot as plt\n",
    "from scipy.spatial import Voronoi,voronoi_plot_2d\n",
    "from geovoronoi import voronoi_regions_from_coords, points_to_coords\n",
    "import random\n",
    "from shapely.geometry import Polygon, Point\n",
    "\n",
    "from skmob.tessellation.tilers import tiler\n",
    "from skmob.utils.plot import plot_gdf\n",
    "import requests"
   ]
  },
  {
   "cell_type": "code",
   "execution_count": 58,
   "metadata": {},
   "outputs": [],
   "source": [
    "def Leuven_map():\n",
    "    point = (50.849738563227824, 4.644786576420597)\n",
    "    m = folium.Map(location=point, zoom_start = 12)\n",
    "    return m"
   ]
  },
  {
   "cell_type": "markdown",
   "metadata": {},
   "source": [
    "# DATA"
   ]
  },
  {
   "cell_type": "code",
   "execution_count": 2,
   "metadata": {},
   "outputs": [],
   "source": [
    "# ciclabile/strada\n",
    "cyclic = gpd.read_file('https://storageaccount11111111.blob.core.windows.net/container1/Leuven/cycling_data/cycling_network.gpkg')\n",
    "cyclic = cyclic.to_crs(epsg=4326)"
   ]
  },
  {
   "cell_type": "code",
   "execution_count": 5,
   "metadata": {},
   "outputs": [],
   "source": [
    "#info socio-dem\n",
    "socio_dem_data = pd.read_excel('https://storageaccount11111111.blob.core.windows.net/container1/Leuven/socio_demographic_data/socio_demographic_data_leuven_2019.xlsx')\n",
    "#drop nan zone\n",
    "socio_dem_data.drop(np.where(socio_dem_data['CODSEC'].isna())[0][0], axis = 0 ,inplace=True)"
   ]
  },
  {
   "cell_type": "code",
   "execution_count": 16,
   "metadata": {},
   "outputs": [],
   "source": [
    "#zone (enorme)\n",
    "zones = gpd.read_file('https://storageaccount11111111.blob.core.windows.net/container1/Leuven/od_data_leuven/OD_zones_leuven.gpkg')\n",
    "zones = zones.to_crs('EPSG:4326')\n",
    "zones_leuven = zones[zones['VREGIO_L'] == 'LEUVEN']"
   ]
  },
  {
   "cell_type": "code",
   "execution_count": 97,
   "metadata": {},
   "outputs": [],
   "source": [
    "#ciclabili per le zone selezionate\n",
    "ind = set()\n",
    "for i in range(len(cyclic)):\n",
    "    z = zones_leuven[zones_leuven['NIS_GEM'] == 24062]['geometry']\n",
    "    s = np.where(z.intersects(cyclic['geometry'][i]))[0]\n",
    "    if len(s) > 0:\n",
    "        ind.add(i)"
   ]
  },
  {
   "cell_type": "code",
   "execution_count": 101,
   "metadata": {},
   "outputs": [],
   "source": [
    "for i in ind:\n",
    "    folium.GeoJson(cyclic['geometry'][i]).add_to(m)"
   ]
  },
  {
   "cell_type": "code",
   "execution_count": 105,
   "metadata": {},
   "outputs": [],
   "source": [
    "leuven_cyclic = cyclic.iloc[list(ind), :]"
   ]
  },
  {
   "cell_type": "code",
   "execution_count": 107,
   "metadata": {},
   "outputs": [],
   "source": [
    "# off_street_parking\n",
    "url = 'https://storageaccount11111111.blob.core.windows.net/container1/Leuven/parking_data_leuven/off_street_parking_supply_Leuven.json'\n",
    "response = requests.get(url)\n",
    "json_data = response.json()\n",
    "\n",
    "results = json_data['JSON']['results']\n",
    "normalized_data = pd.json_normalize(results)\n",
    "\n",
    "df = pd.DataFrame(normalized_data)"
   ]
  },
  {
   "cell_type": "code",
   "execution_count": null,
   "metadata": {},
   "outputs": [],
   "source": [
    "# estraggo info dalla colonna bullets \n",
    "spots = []\n",
    "cameras = []\n",
    "accessibility = []\n",
    "lift = []\n",
    "height = []\n",
    "\n",
    "\n",
    "for row in df['bullets']:\n",
    "    spot_number = None\n",
    "    camera_label = None\n",
    "    accessibility_label = None\n",
    "    lift_label = None\n",
    "    height_label = None\n",
    "    \n",
    "    for item in row:\n",
    "        label = item['label']\n",
    "        if 'spots' in item['icon']:\n",
    "            spot_number = int(''.join(filter(str.isdigit, label)))\n",
    "        elif 'camera' in item['icon']:\n",
    "            camera_label = label\n",
    "        elif 'accessibility' in item['icon']:\n",
    "            accessibility_label = label\n",
    "        elif 'lift' in item['icon']:\n",
    "            lift_label = label\n",
    "        elif 'height' in item['icon']:\n",
    "            height_label = label\n",
    "    \n",
    "\n",
    "    spots.append(spot_number)\n",
    "    cameras.append(camera_label)\n",
    "    accessibility.append(accessibility_label)\n",
    "    lift.append(lift_label)\n",
    "    height.append(height_label)\n",
    "\n",
    "df['spots'] = spots\n",
    "df['cameras'] = cameras\n",
    "df['accessibility'] = accessibility\n",
    "df['lift'] = lift\n",
    "df['height'] = height\n",
    "\n",
    "df = df.drop('bullets', axis=1)"
   ]
  },
  {
   "cell_type": "code",
   "execution_count": 141,
   "metadata": {},
   "outputs": [
    {
     "data": {
      "text/plain": [
       "(43, 7)"
      ]
     },
     "execution_count": 141,
     "metadata": {},
     "output_type": "execute_result"
    }
   ],
   "source": [
    "geometry = [Point(xy) for xy in zip(df['coords.lng'], df['coords.lat'])]\n",
    "gdf = gpd.GeoDataFrame(df, geometry=geometry, crs=\"EPSG:4326\")\n",
    "\n",
    "columns_subset = ['pricing_type', 'free_bus', 'id', 'subtype', 'spots', 'lift', 'geometry']\n",
    "gdf = gdf[columns_subset]\n",
    "mapping = {'None': 0, 'Parking met lift': 1, True: 1, False:0}\n",
    "gdf['lift'] = gdf['lift'].replace(mapping)\n",
    "gdf['free_bus'] = gdf['free_bus'].replace(mapping)\n",
    "gdf['lift'] = gdf['lift'].fillna(0)\n",
    "gdf.shape"
   ]
  },
  {
   "cell_type": "markdown",
   "metadata": {},
   "source": [
    "## calcolo distanze tra :"
   ]
  },
  {
   "cell_type": "code",
   "execution_count": 135,
   "metadata": {},
   "outputs": [],
   "source": [
    "import pyproj\n",
    "from shapely.ops import transform"
   ]
  },
  {
   "cell_type": "code",
   "execution_count": 149,
   "metadata": {},
   "outputs": [],
   "source": [
    "utm = leuven_cyclic.estimate_utm_crs()\n",
    "project = pyproj.Transformer.from_crs('4326', utm)"
   ]
  },
  {
   "cell_type": "markdown",
   "metadata": {},
   "source": [
    "### Parcheggi"
   ]
  },
  {
   "cell_type": "code",
   "execution_count": 180,
   "metadata": {},
   "outputs": [
    {
     "name": "stdout",
     "output_type": "stream",
     "text": [
      "[5808.78317612 6498.96115617 6584.63840773 6097.83892227 6063.74626164\n",
      " 6345.61063777 5786.24897715 6076.07173346 5407.50537083 5983.43548225\n",
      " 4082.45695654 6309.10344926 7208.63821733 8445.90075834 7114.99372652\n",
      " 7706.28683121 6687.24067263 8226.69120231 6029.89067924 5913.54892681\n",
      " 5926.96661758 5649.27229762 6433.18450227 6420.87386876 6489.05813196\n",
      " 4980.52859899 6263.45998123 6546.75798212 6718.53403441 6809.28183835\n",
      " 6886.09785109 5055.59185185 5467.32369018 5690.60005297 6673.70448613\n",
      " 5642.14971958 4819.39732219 5691.43056565 5516.59239354 4965.58396633\n",
      " 6043.84612677 6840.00266402 6935.85814077]\n"
     ]
    },
    {
     "ename": "AttributeError",
     "evalue": "'LineString' object has no attribute 'interpolation'",
     "output_type": "error",
     "traceback": [
      "\u001b[1;31m---------------------------------------------------------------------------\u001b[0m",
      "\u001b[1;31mAttributeError\u001b[0m                            Traceback (most recent call last)",
      "\u001b[1;32mc:\\Users\\and99\\Desktop\\challenge_mobidatalab_codagon\\Leuven\\Candidati.ipynb Cell 17\u001b[0m line \u001b[0;36m8\n\u001b[0;32m      <a href='vscode-notebook-cell:/c%3A/Users/and99/Desktop/challenge_mobidatalab_codagon/Leuven/Candidati.ipynb#X50sZmlsZQ%3D%3D?line=5'>6</a>\u001b[0m g2 \u001b[39m=\u001b[39m transform(project\u001b[39m.\u001b[39mtransform, candidate)  \n\u001b[0;32m      <a href='vscode-notebook-cell:/c%3A/Users/and99/Desktop/challenge_mobidatalab_codagon/Leuven/Candidati.ipynb#X50sZmlsZQ%3D%3D?line=6'>7</a>\u001b[0m \u001b[39mprint\u001b[39m(g2\u001b[39m.\u001b[39mdistance(transformed_parkings))\n\u001b[1;32m----> <a href='vscode-notebook-cell:/c%3A/Users/and99/Desktop/challenge_mobidatalab_codagon/Leuven/Candidati.ipynb#X50sZmlsZQ%3D%3D?line=7'>8</a>\u001b[0m \u001b[39mprint\u001b[39m(np\u001b[39m.\u001b[39mmin(g2\u001b[39m.\u001b[39;49minterpolation(transformed_parkings)))\n",
      "\u001b[1;31mAttributeError\u001b[0m: 'LineString' object has no attribute 'interpolation'"
     ]
    }
   ],
   "source": [
    "transformed_parkings = []\n",
    "for point in gdf['geometry']:\n",
    "    transformed_parkings.append(transform(project.transform, point))\n",
    "\n",
    "for candidate in leuven_cyclic['geometry']:\n",
    "    g2 = transform(project.transform, candidate)  \n",
    "    print(g2.distance(transformed_parkings))\n",
    "    #print(np.min(g2.interpolation(transformed_parkings)))"
   ]
  }
 ],
 "metadata": {
  "kernelspec": {
   "display_name": "geo",
   "language": "python",
   "name": "python3"
  },
  "language_info": {
   "codemirror_mode": {
    "name": "ipython",
    "version": 3
   },
   "file_extension": ".py",
   "mimetype": "text/x-python",
   "name": "python",
   "nbconvert_exporter": "python",
   "pygments_lexer": "ipython3",
   "version": "3.10.11"
  }
 },
 "nbformat": 4,
 "nbformat_minor": 2
}
