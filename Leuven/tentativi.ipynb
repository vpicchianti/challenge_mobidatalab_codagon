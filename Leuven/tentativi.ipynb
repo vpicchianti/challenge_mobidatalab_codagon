{
 "cells": [
  {
   "cell_type": "code",
   "execution_count": 1,
   "metadata": {},
   "outputs": [],
   "source": [
    "import sumolib\n",
    "import pandas as pd\n",
    "import geopandas as gpd\n",
    "from shapely import wkt\n",
    "import osmnx as ox\n",
    "import subprocess\n",
    "import folium\n",
    "import openrouteservice as ors"
   ]
  },
  {
   "cell_type": "code",
   "execution_count": 52,
   "metadata": {},
   "outputs": [],
   "source": [
    "net = sumolib.net.readNet(r\"C:\\Users\\Valeria\\Downloads\\osmbis.net.xml.gz\")"
   ]
  },
  {
   "cell_type": "code",
   "execution_count": 67,
   "metadata": {},
   "outputs": [],
   "source": [
    "od = gpd.read_file('https://storageaccount11111111.blob.core.windows.net/container1/Leuven/od_data_leuven/OD_zones_leuven.gpkg')\n",
    "od = od.to_crs('EPSG:4326')\n",
    "od_leuven = od[od['VREGIO_L'] == 'LEUVEN']"
   ]
  },
  {
   "cell_type": "code",
   "execution_count": 71,
   "metadata": {},
   "outputs": [
    {
     "data": {
      "image/svg+xml": [
       "<svg xmlns=\"http://www.w3.org/2000/svg\" xmlns:xlink=\"http://www.w3.org/1999/xlink\" width=\"100.0\" height=\"100.0\" viewBox=\"4.466990194538122 50.764509902465505 0.015901900783939382 0.008073357776503087\" preserveAspectRatio=\"xMinYMin meet\"><g transform=\"matrix(1,0,0,-1,0,101.53709316270752)\"><g><path fill-rule=\"evenodd\" fill=\"#66cc99\" stroke=\"#555555\" stroke-width=\"0.0003180380156787876\" opacity=\"0.6\" d=\"M 4.474490924016838,50.7650988617538 L 4.474038394147945,50.76538203942872 L 4.4737153499164295,50.7655550034599 L 4.4732039763330835,50.765677146693655 L 4.472776236346927,50.76561031507969 L 4.472654292890692,50.7658294517309 L 4.472570594035586,50.765990610723456 L 4.472519619261943,50.766076413175035 L 4.472328223886292,50.7662898175032 L 4.47193470318552,50.766826728657776 L 4.4714540832751695,50.76681556516295 L 4.468511748389357,50.766679060800506 L 4.468249266712798,50.767846276341324 L 4.468214876439869,50.76800159492324 L 4.468198644322299,50.76810243116617 L 4.467579153826415,50.76810295933247 L 4.467641679624314,50.76915285049385 L 4.468433327315573,50.76932368833207 L 4.468269168015597,50.77032857552354 L 4.469044114485968,50.7703707887509 L 4.469716874968522,50.77048261781112 L 4.470228832803654,50.77060153652941 L 4.470137738393051,50.77073140993012 L 4.469679694995218,50.77103775175283 L 4.468748824084303,50.77158206968621 L 4.4691298361408345,50.771994300953715 L 4.469884278377351,50.77183719913147 L 4.47085270654688,50.77175754929954 L 4.471033602285675,50.7717434841487 L 4.471702336171644,50.77167567932528 L 4.471885570877507,50.77106478832322 L 4.472112536436719,50.7703970739807 L 4.472615634248142,50.769816027838985 L 4.473071787961491,50.76949576987917 L 4.473758782498763,50.76943720731267 L 4.474445904112289,50.76943658503908 L 4.4766455375363154,50.76995721955177 L 4.4770105642538,50.76975407770345 L 4.479439637005375,50.7699082407021 L 4.479675416383192,50.76992308163621 L 4.480172564055134,50.76995389570032 L 4.480905381437729,50.769953191766696 L 4.482303136033767,50.769844060934616 L 4.482212381755887,50.76783813178194 L 4.482079729762716,50.767392092417886 L 4.4805857680060575,50.76697634184508 L 4.4787385628697685,50.76630942854146 L 4.477905366042033,50.766338026759236 L 4.476707587067891,50.765960190565494 L 4.474578143408361,50.765689810833656 L 4.474490924016838,50.7650988617538 z\" /></g></g></svg>"
      ],
      "text/plain": [
       "<MULTIPOLYGON (((4.474 50.765, 4.474 50.765, 4.474 50.766, 4.473 50.766, 4.4...>"
      ]
     },
     "execution_count": 71,
     "metadata": {},
     "output_type": "execute_result"
    }
   ],
   "source": [
    "od_leuven['geometry']"
   ]
  },
  {
   "cell_type": "code",
   "execution_count": 65,
   "metadata": {},
   "outputs": [],
   "source": [
    "ids = []\n",
    "for i, r in traffico_filtrato.iterrows():\n",
    "    x, y = net.convertLonLat2XY(traffico_filtrato['x'][i], traffico_filtrato['y'][i])\n",
    "    candidates_edges = net.getNeighboringEdges(x, y, r=100)\n",
    "    edges_and_dist = sorted(candidates_edges, key = lambda x: x[1])\n",
    "    if len(edges_and_dist)>0:\n",
    "        closest_edge = edges_and_dist[0][0]\n",
    "        id = closest_edge.getID()\n",
    "    else:\n",
    "        id = 'NaN'\n",
    "    ids.append(id)\n",
    "\n",
    "traffico_filtrato['closest_edge'] = ids\n"
   ]
  }
 ],
 "metadata": {
  "kernelspec": {
   "display_name": "skmob",
   "language": "python",
   "name": "python3"
  },
  "language_info": {
   "codemirror_mode": {
    "name": "ipython",
    "version": 3
   },
   "file_extension": ".py",
   "mimetype": "text/x-python",
   "name": "python",
   "nbconvert_exporter": "python",
   "pygments_lexer": "ipython3",
   "version": "3.9.18"
  }
 },
 "nbformat": 4,
 "nbformat_minor": 2
}
