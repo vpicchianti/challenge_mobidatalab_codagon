{
 "cells": [
  {
   "cell_type": "code",
   "execution_count": null,
   "metadata": {},
   "outputs": [],
   "source": [
    "# !pip install sumolib"
   ]
  },
  {
   "cell_type": "code",
   "execution_count": null,
   "metadata": {},
   "outputs": [],
   "source": [
    "# pip install --upgrade python-igraph folium==0.12.1.post1 geojson==2.5.0 geopandas==0.10.2 pandas==1.1.5 statsmodels==0.13.0\n"
   ]
  },
  {
   "cell_type": "code",
   "execution_count": null,
   "metadata": {},
   "outputs": [],
   "source": [
    "# !pip install pandas==1.2.5"
   ]
  },
  {
   "cell_type": "code",
   "execution_count": 2,
   "metadata": {},
   "outputs": [],
   "source": [
    "import sumolib\n",
    "import pandas as pd\n",
    "import geopandas as gpd\n",
    "from shapely import wkt\n",
    "import osmnx as ox\n",
    "import subprocess\n",
    "import folium\n",
    "import openrouteservice as ors\n"
   ]
  },
  {
   "cell_type": "code",
   "execution_count": 4,
   "metadata": {},
   "outputs": [],
   "source": [
    "net = sumolib.net.readNet('osm.net.xml.gz')"
   ]
  },
  {
   "cell_type": "code",
   "execution_count": 5,
   "metadata": {},
   "outputs": [
    {
     "name": "stdout",
     "output_type": "stream",
     "text": [
      "The road network has 55974 edges and 25171 nodes.\n"
     ]
    }
   ],
   "source": [
    "edge_list = net.getEdges()\n",
    "node_list = net.getNodes()\n",
    "\n",
    "print(f\"The road network has {len(edge_list)} edges and {len(node_list)} nodes.\")"
   ]
  },
  {
   "cell_type": "code",
   "execution_count": 7,
   "metadata": {},
   "outputs": [],
   "source": [
    "\n",
    "outflow_df = pd.read_csv('outflow_per_region.csv')\n",
    "outflow_df['zone_geometry'] = outflow_df['zone_geometry'].apply(wkt.loads)\n",
    "outflow_gdf = gpd.GeoDataFrame(outflow_df, geometry='zone_geometry')"
   ]
  },
  {
   "cell_type": "code",
   "execution_count": 9,
   "metadata": {},
   "outputs": [
    {
     "name": "stdout",
     "output_type": "stream",
     "text": [
      "SUMO reference coordinates (x,y) for centrum: (13118.32514550921, 11214.115449559875)\n",
      "SUMO reference coordinates (x,y) for maxflow: (12883.954596722615, 12184.558083221316)\n"
     ]
    }
   ],
   "source": [
    "# cerco i centroidi della regione per cui outflow è max e centroidi di una regione centrale a caso ( 'LEUVEN-CENTRUM' in questo caso )\n",
    "geom_max_out = outflow_gdf.loc[outflow_gdf['flows_car_aggr'].idxmax(), 'zone_geometry'].centroid\n",
    "geom_centro = outflow_gdf.loc[outflow_gdf['SECNAAM'] == 'LEUVEN-CENTRUM', 'zone_geometry'].iloc[0].centroid\n",
    "lat_centro, lon_centro = geom_max_out.y, geom_max_out.x\n",
    "lat_maxflow, lon_maxflow = geom_centro.y, geom_centro.x\n",
    "\n",
    "# convert into SUMO coordinates (x, y)\n",
    "x_maxflow, y_maxflow = net.convertLonLat2XY(lon_maxflow, lat_maxflow)\n",
    "x_centro, y_centro = net.convertLonLat2XY(lon_centro, lat_centro)\n",
    "\n",
    "print(f\"SUMO reference coordinates (x,y) for centrum: {x_centro,y_centro}\")\n",
    "print(f\"SUMO reference coordinates (x,y) for maxflow: {x_maxflow,y_maxflow}\")"
   ]
  },
  {
   "cell_type": "code",
   "execution_count": 10,
   "metadata": {},
   "outputs": [],
   "source": [
    "# the set of Neighboring edges\n",
    "candiates_edges = net.getNeighboringEdges(x_maxflow, y_maxflow, r=25)\n",
    "edges_and_dist_maxflow = sorted(candiates_edges, key = lambda x: x[1])\n",
    "\n",
    "candiates_edges_centro = net.getNeighboringEdges(x_centro, y_centro, r=25)\n",
    "edges_and_dist_centro = sorted(candiates_edges_centro, key = lambda x: x[1])\n"
   ]
  },
  {
   "cell_type": "code",
   "execution_count": 11,
   "metadata": {},
   "outputs": [
    {
     "data": {
      "text/plain": [
       "(12883.954596722615, 12184.558083221316)"
      ]
     },
     "execution_count": 11,
     "metadata": {},
     "output_type": "execute_result"
    }
   ],
   "source": [
    "x_maxflow,y_maxflow"
   ]
  },
  {
   "cell_type": "code",
   "execution_count": 14,
   "metadata": {},
   "outputs": [
    {
     "name": "stdout",
     "output_type": "stream",
     "text": [
      "Name closest edge to maxflow: \n",
      "Edge ID: 385589764#2\n",
      "Name closest edge to centrum: Paul Lebrunstraat\n",
      "Edge ID: -3351197\n"
     ]
    }
   ],
   "source": [
    "closest_edge_maxflow = edges_and_dist_maxflow[0][0]\n",
    "closest_edge_centro = edges_and_dist_centro[0][0]\n",
    "\n",
    "print(f\"Name closest edge to maxflow: {closest_edge_maxflow.getName()}\")\n",
    "print(f\"Edge ID: {closest_edge_maxflow.getID()}\")\n",
    "\n",
    "print(f\"Name closest edge to centrum: {closest_edge_centro.getName()}\")\n",
    "print(f\"Edge ID: {closest_edge_centro.getID()}\")"
   ]
  },
  {
   "cell_type": "code",
   "execution_count": 15,
   "metadata": {},
   "outputs": [
    {
     "data": {
      "text/plain": [
       "(<edge id=\"385589764#2\" from=\"1573474888\" to=\"3663114400\"/>,\n",
       " <edge id=\"-3351197\" from=\"16483865\" to=\"16526534\"/>)"
      ]
     },
     "execution_count": 15,
     "metadata": {},
     "output_type": "execute_result"
    }
   ],
   "source": [
    "closest_edge_maxflow, closest_edge_centro"
   ]
  },
  {
   "cell_type": "code",
   "execution_count": 16,
   "metadata": {},
   "outputs": [
    {
     "data": {
      "text/plain": [
       "(None, inf)"
      ]
     },
     "execution_count": 16,
     "metadata": {},
     "output_type": "execute_result"
    }
   ],
   "source": [
    "e_origin, e_destination = closest_edge_maxflow, closest_edge_centro\n",
    "\n",
    "# shortest path \n",
    "shortest_path = net.getOptimalPath(e_origin, e_destination, fastest=False)\n",
    "shortest_path\n",
    "# print(f\"Number of edges in the path: {len(shortest_path[0])}\")\n",
    "# print(f\"Cost [m]: {shortest_path[1]}\")\n"
   ]
  },
  {
   "cell_type": "code",
   "execution_count": 19,
   "metadata": {},
   "outputs": [
    {
     "ename": "InsufficientResponseError",
     "evalue": "No data elements in server response. Check query location/filters and log.",
     "output_type": "error",
     "traceback": [
      "\u001b[1;31m---------------------------------------------------------------------------\u001b[0m",
      "\u001b[1;31mInsufficientResponseError\u001b[0m                 Traceback (most recent call last)",
      "\u001b[1;32mc:\\Users\\Valeria\\Documents\\GitHub\\challenge_mobidatalab_codagon\\Leuven\\sumo.ipynb Cell 14\u001b[0m line \u001b[0;36m2\n\u001b[0;32m      <a href='vscode-notebook-cell:/c%3A/Users/Valeria/Documents/GitHub/challenge_mobidatalab_codagon/Leuven/sumo.ipynb#X34sZmlsZQ%3D%3D?line=0'>1</a>\u001b[0m rete \u001b[39m=\u001b[39m \u001b[39mr\u001b[39m\u001b[39m\"\u001b[39m\u001b[39mC:\u001b[39m\u001b[39m\\\u001b[39m\u001b[39mUsers\u001b[39m\u001b[39m\\\u001b[39m\u001b[39mValeria\u001b[39m\u001b[39m\\\u001b[39m\u001b[39mDocuments\u001b[39m\u001b[39m\\\u001b[39m\u001b[39mUniversità\u001b[39m\u001b[39m\\\u001b[39m\u001b[39mDS\u001b[39m\u001b[39m\\\u001b[39m\u001b[39mGEO\u001b[39m\u001b[39m\\\u001b[39m\u001b[39mosm.net.xml\u001b[39m\u001b[39m\\\u001b[39m\u001b[39mosm.net.xml\u001b[39m\u001b[39m\"\u001b[39m\n\u001b[1;32m----> <a href='vscode-notebook-cell:/c%3A/Users/Valeria/Documents/GitHub/challenge_mobidatalab_codagon/Leuven/sumo.ipynb#X34sZmlsZQ%3D%3D?line=1'>2</a>\u001b[0m G \u001b[39m=\u001b[39m ox\u001b[39m.\u001b[39;49mgraph_from_xml(rete, simplify\u001b[39m=\u001b[39;49m\u001b[39mTrue\u001b[39;49;00m)\n\u001b[0;32m      <a href='vscode-notebook-cell:/c%3A/Users/Valeria/Documents/GitHub/challenge_mobidatalab_codagon/Leuven/sumo.ipynb#X34sZmlsZQ%3D%3D?line=3'>4</a>\u001b[0m ox\u001b[39m.\u001b[39mplot_graph(G, edge_color\u001b[39m=\u001b[39m\u001b[39m'\u001b[39m\u001b[39mblack\u001b[39m\u001b[39m'\u001b[39m, node_color\u001b[39m=\u001b[39m\u001b[39m'\u001b[39m\u001b[39mred\u001b[39m\u001b[39m'\u001b[39m, bgcolor\u001b[39m=\u001b[39m\u001b[39m'\u001b[39m\u001b[39mwhite\u001b[39m\u001b[39m'\u001b[39m)\n",
      "File \u001b[1;32mc:\\Users\\Valeria\\anaconda3\\envs\\skmob\\lib\\site-packages\\osmnx\\graph.py:562\u001b[0m, in \u001b[0;36mgraph_from_xml\u001b[1;34m(filepath, bidirectional, simplify, retain_all)\u001b[0m\n\u001b[0;32m    559\u001b[0m response_jsons \u001b[39m=\u001b[39m [osm_xml\u001b[39m.\u001b[39m_overpass_json_from_file(filepath)]\n\u001b[0;32m    561\u001b[0m \u001b[39m# create graph using this response JSON\u001b[39;00m\n\u001b[1;32m--> 562\u001b[0m G \u001b[39m=\u001b[39m _create_graph(response_jsons, bidirectional\u001b[39m=\u001b[39;49mbidirectional, retain_all\u001b[39m=\u001b[39;49mretain_all)\n\u001b[0;32m    564\u001b[0m \u001b[39m# simplify the graph topology as the last step\u001b[39;00m\n\u001b[0;32m    565\u001b[0m \u001b[39mif\u001b[39;00m simplify:\n",
      "File \u001b[1;32mc:\\Users\\Valeria\\anaconda3\\envs\\skmob\\lib\\site-packages\\osmnx\\graph.py:620\u001b[0m, in \u001b[0;36m_create_graph\u001b[1;34m(response_jsons, retain_all, bidirectional)\u001b[0m\n\u001b[0;32m    618\u001b[0m \u001b[39mif\u001b[39;00m (\u001b[39mlen\u001b[39m(nodes) \u001b[39m==\u001b[39m \u001b[39m0\u001b[39m) \u001b[39mand\u001b[39;00m (\u001b[39mlen\u001b[39m(paths) \u001b[39m==\u001b[39m \u001b[39m0\u001b[39m):  \u001b[39m# pragma: no cover\u001b[39;00m\n\u001b[0;32m    619\u001b[0m     msg \u001b[39m=\u001b[39m \u001b[39m\"\u001b[39m\u001b[39mNo data elements in server response. Check query location/filters and log.\u001b[39m\u001b[39m\"\u001b[39m\n\u001b[1;32m--> 620\u001b[0m     \u001b[39mraise\u001b[39;00m InsufficientResponseError(msg)\n\u001b[0;32m    622\u001b[0m \u001b[39m# create the MultiDiGraph and set its graph-level attributes\u001b[39;00m\n\u001b[0;32m    623\u001b[0m metadata \u001b[39m=\u001b[39m {\n\u001b[0;32m    624\u001b[0m     \u001b[39m\"\u001b[39m\u001b[39mcreated_date\u001b[39m\u001b[39m\"\u001b[39m: utils\u001b[39m.\u001b[39mts(),\n\u001b[0;32m    625\u001b[0m     \u001b[39m\"\u001b[39m\u001b[39mcreated_with\u001b[39m\u001b[39m\"\u001b[39m: \u001b[39mf\u001b[39m\u001b[39m\"\u001b[39m\u001b[39mOSMnx \u001b[39m\u001b[39m{\u001b[39;00m__version__\u001b[39m}\u001b[39;00m\u001b[39m\"\u001b[39m,\n\u001b[0;32m    626\u001b[0m     \u001b[39m\"\u001b[39m\u001b[39mcrs\u001b[39m\u001b[39m\"\u001b[39m: settings\u001b[39m.\u001b[39mdefault_crs,\n\u001b[0;32m    627\u001b[0m }\n",
      "\u001b[1;31mInsufficientResponseError\u001b[0m: No data elements in server response. Check query location/filters and log."
     ]
    }
   ],
   "source": [
    "rete = r\"C:\\Users\\Valeria\\Documents\\Università\\DS\\GEO\\osm.net.xml\\osm.net.xml\"\n",
    "G = ox.graph_from_xml(rete, simplify=True)\n",
    "\n",
    "ox.plot_graph(G, edge_color='black', node_color='red', bgcolor='white')"
   ]
  },
  {
   "cell_type": "markdown",
   "metadata": {},
   "source": [
    "## duarouter - \n",
    "non ho ben capito come funziona"
   ]
  },
  {
   "cell_type": "code",
   "execution_count": 12,
   "metadata": {},
   "outputs": [],
   "source": [
    "\n",
    "command_str_astar = \"duarouter --route-files traffic_demand_leuven.rou.xml \"+\\\n",
    "        \" --net-file osm.net.xml\"+\\\n",
    "        \" --output-file traffic_demand_pisa_duarouter_astar.rou.xml --routing-algorithm astar\"\n",
    "\n",
    "p = subprocess.Popen(command_str_astar, shell=True, stdout=subprocess.PIPE, \n",
    "                                     stderr=subprocess.STDOUT)\n",
    "retval = p.wait()"
   ]
  },
  {
   "cell_type": "code",
   "execution_count": 14,
   "metadata": {},
   "outputs": [],
   "source": [
    "command_str_w = \"duarouter --route-files traffic_demand_leuven.rou.xml \"+\\\n",
    "        \" --net-file osm.net.xml\"+\\\n",
    "        \" --output-file traffic_demand_pisa_duarouter_astar.rou.xml --routing-algorithm astar --weights.random-factor 300\"\n",
    "\n",
    "p = subprocess.Popen(command_str_w, shell=True, stdout=subprocess.PIPE, \n",
    "                                     stderr=subprocess.STDOUT)\n",
    "retval = p.wait()"
   ]
  },
  {
   "cell_type": "markdown",
   "metadata": {},
   "source": [
    "### OpenStreetMap routing API \n"
   ]
  },
  {
   "cell_type": "code",
   "execution_count": 21,
   "metadata": {},
   "outputs": [],
   "source": [
    "YOUR_KEY = '5b3ce3597851110001cf624899fee7dd897b42e19b4300590818493a'"
   ]
  },
  {
   "cell_type": "code",
   "execution_count": 1,
   "metadata": {},
   "outputs": [],
   "source": [
    "import openrouteservice"
   ]
  },
  {
   "cell_type": "code",
   "execution_count": 26,
   "metadata": {},
   "outputs": [],
   "source": [
    "\n",
    "x_origin, y_origin = e_origin.getFromNode().getCoord()\n",
    "lon_origin, lat_origin = net.convertXY2LonLat(x_origin, y_origin)\n",
    "\n",
    "\n",
    "x_dest, y_dest = e_destination.getFromNode().getCoord()\n",
    "lon_dest, lat_dest = net.convertXY2LonLat(x_dest, y_dest)\n",
    "\n",
    "coordinates = [[lon_origin, lat_origin], [lon_dest, lat_dest]]\n",
    "client = ors.Client(key=YOUR_KEY)\n",
    "\n",
    "\n",
    "route_osm = client.directions(\n",
    "        coordinates=coordinates,\n",
    "        profile='driving-car',\n",
    "        preference=\"shortest\",\n",
    "        format='geojson',\n",
    "        geometry_simplify=False,\n",
    "        validate=True)\n",
    "\n",
    "# extract the GPS points (lon, lat) of the fastest route\n",
    "gps_points_osm = [coord for coord in route_osm['features'][0]['geometry']['coordinates']]"
   ]
  },
  {
   "cell_type": "code",
   "execution_count": 30,
   "metadata": {},
   "outputs": [
    {
     "data": {
      "text/html": [
       "<div style=\"width:100%;\"><div style=\"position:relative;width:100%;height:0;padding-bottom:60%;\"><span style=\"color:#565656\">Make this Notebook Trusted to load map: File -> Trust Notebook</span><iframe srcdoc=\"&lt;!DOCTYPE html&gt;\n",
       "&lt;html&gt;\n",
       "&lt;head&gt;\n",
       "    \n",
       "    &lt;meta http-equiv=&quot;content-type&quot; content=&quot;text/html; charset=UTF-8&quot; /&gt;\n",
       "    \n",
       "        &lt;script&gt;\n",
       "            L_NO_TOUCH = false;\n",
       "            L_DISABLE_3D = false;\n",
       "        &lt;/script&gt;\n",
       "    \n",
       "    &lt;style&gt;html, body {width: 100%;height: 100%;margin: 0;padding: 0;}&lt;/style&gt;\n",
       "    &lt;style&gt;#map {position:absolute;top:0;bottom:0;right:0;left:0;}&lt;/style&gt;\n",
       "    &lt;script src=&quot;https://cdn.jsdelivr.net/npm/leaflet@1.9.3/dist/leaflet.js&quot;&gt;&lt;/script&gt;\n",
       "    &lt;script src=&quot;https://code.jquery.com/jquery-1.12.4.min.js&quot;&gt;&lt;/script&gt;\n",
       "    &lt;script src=&quot;https://cdn.jsdelivr.net/npm/bootstrap@5.2.2/dist/js/bootstrap.bundle.min.js&quot;&gt;&lt;/script&gt;\n",
       "    &lt;script src=&quot;https://cdnjs.cloudflare.com/ajax/libs/Leaflet.awesome-markers/2.0.2/leaflet.awesome-markers.js&quot;&gt;&lt;/script&gt;\n",
       "    &lt;link rel=&quot;stylesheet&quot; href=&quot;https://cdn.jsdelivr.net/npm/leaflet@1.9.3/dist/leaflet.css&quot;/&gt;\n",
       "    &lt;link rel=&quot;stylesheet&quot; href=&quot;https://cdn.jsdelivr.net/npm/bootstrap@5.2.2/dist/css/bootstrap.min.css&quot;/&gt;\n",
       "    &lt;link rel=&quot;stylesheet&quot; href=&quot;https://netdna.bootstrapcdn.com/bootstrap/3.0.0/css/bootstrap.min.css&quot;/&gt;\n",
       "    &lt;link rel=&quot;stylesheet&quot; href=&quot;https://cdn.jsdelivr.net/npm/@fortawesome/fontawesome-free@6.2.0/css/all.min.css&quot;/&gt;\n",
       "    &lt;link rel=&quot;stylesheet&quot; href=&quot;https://cdnjs.cloudflare.com/ajax/libs/Leaflet.awesome-markers/2.0.2/leaflet.awesome-markers.css&quot;/&gt;\n",
       "    &lt;link rel=&quot;stylesheet&quot; href=&quot;https://cdn.jsdelivr.net/gh/python-visualization/folium/folium/templates/leaflet.awesome.rotate.min.css&quot;/&gt;\n",
       "    \n",
       "            &lt;meta name=&quot;viewport&quot; content=&quot;width=device-width,\n",
       "                initial-scale=1.0, maximum-scale=1.0, user-scalable=no&quot; /&gt;\n",
       "            &lt;style&gt;\n",
       "                #map_bab454b21d3498630c9d4716a4975d31 {\n",
       "                    position: relative;\n",
       "                    width: 100.0%;\n",
       "                    height: 100.0%;\n",
       "                    left: 0.0%;\n",
       "                    top: 0.0%;\n",
       "                }\n",
       "                .leaflet-container { font-size: 1rem; }\n",
       "            &lt;/style&gt;\n",
       "        \n",
       "&lt;/head&gt;\n",
       "&lt;body&gt;\n",
       "    \n",
       "    \n",
       "            &lt;div class=&quot;folium-map&quot; id=&quot;map_bab454b21d3498630c9d4716a4975d31&quot; &gt;&lt;/div&gt;\n",
       "        \n",
       "&lt;/body&gt;\n",
       "&lt;script&gt;\n",
       "    \n",
       "    \n",
       "            var map_bab454b21d3498630c9d4716a4975d31 = L.map(\n",
       "                &quot;map_bab454b21d3498630c9d4716a4975d31&quot;,\n",
       "                {\n",
       "                    center: [50.87909176633831, 4.700335202277401],\n",
       "                    crs: L.CRS.EPSG3857,\n",
       "                    zoom: 13,\n",
       "                    zoomControl: true,\n",
       "                    preferCanvas: false,\n",
       "                }\n",
       "            );\n",
       "\n",
       "            \n",
       "\n",
       "        \n",
       "    \n",
       "            var tile_layer_d799fbe0b059a2cc8d6c46fcc6fa00c6 = L.tileLayer(\n",
       "                &quot;https://cartodb-basemaps-{s}.global.ssl.fastly.net/light_all/{z}/{x}/{y}.png&quot;,\n",
       "                {&quot;attribution&quot;: &quot;\\u0026copy; \\u003ca target=\\&quot;_blank\\&quot; href=\\&quot;http://www.openstreetmap.org/copyright\\&quot;\\u003eOpenStreetMap\\u003c/a\\u003e contributors \\u0026copy; \\u003ca target=\\&quot;_blank\\&quot; href=\\&quot;http://cartodb.com/attributions\\&quot;\\u003eCartoDB\\u003c/a\\u003e, CartoDB \\u003ca target=\\&quot;_blank\\&quot; href =\\&quot;http://cartodb.com/attributions\\&quot;\\u003eattributions\\u003c/a\\u003e&quot;, &quot;detectRetina&quot;: false, &quot;maxNativeZoom&quot;: 18, &quot;maxZoom&quot;: 18, &quot;minZoom&quot;: 0, &quot;noWrap&quot;: false, &quot;opacity&quot;: 1, &quot;subdomains&quot;: &quot;abc&quot;, &quot;tms&quot;: false}\n",
       "            ).addTo(map_bab454b21d3498630c9d4716a4975d31);\n",
       "        \n",
       "    \n",
       "            var poly_line_b3a96a67d20d301fe8deef9e1199e1bb = L.polyline(\n",
       "                [[50.879639, 4.700442], [50.879761, 4.700479], [50.879825, 4.700541], [50.88003, 4.700077], [50.880562, 4.698901], [50.880743, 4.698509], [50.88079, 4.69841], [50.880734, 4.698318], [50.88067, 4.698212], [50.880628, 4.698141], [50.880537, 4.698248], [50.880463, 4.698314], [50.880367, 4.698363], [50.880208, 4.698393], [50.880137, 4.69839], [50.879993, 4.698356], [50.879832, 4.698246], [50.87995, 4.69792], [50.88013, 4.6974], [50.880183, 4.697181], [50.88035, 4.69614], [50.880395, 4.695871], [50.880427, 4.695674], [50.880462, 4.69547], [50.880477, 4.69534], [50.880559, 4.694644], [50.880598, 4.694265], [50.880646, 4.693592], [50.880547, 4.693587], [50.880344, 4.693395], [50.879971, 4.693041], [50.879514, 4.692534], [50.879083, 4.692177], [50.877837, 4.691373], [50.877597, 4.692634], [50.877522, 4.693411], [50.877478, 4.693895], [50.877479, 4.693984], [50.87761, 4.694937], [50.877625, 4.695104], [50.877655, 4.695538], [50.877679, 4.696485], [50.877636, 4.697066], [50.877574, 4.697476], [50.878026, 4.697721], [50.878091, 4.697769], [50.878103, 4.697829], [50.877865, 4.698597], [50.877598, 4.698429], [50.877362, 4.698295], [50.876177, 4.697694], [50.876136, 4.697696], [50.876032, 4.697708], [50.875905, 4.697719], [50.875787, 4.697678], [50.875563, 4.697665], [50.875267, 4.697726], [50.875121, 4.697817], [50.874852, 4.698031], [50.874589, 4.698122], [50.874294, 4.698167], [50.874039, 4.698168], [50.872873, 4.698115], [50.872822, 4.699802], [50.872713, 4.699771], [50.872704, 4.700534], [50.872634, 4.700542], [50.872627, 4.700606], [50.872583, 4.700704], [50.872354, 4.70082], [50.872317, 4.70091], [50.872305, 4.701019], [50.872316, 4.701276], [50.872307, 4.701372], [50.872283, 4.701431], [50.871938, 4.701568], [50.871897, 4.701586], [50.871849, 4.70165], [50.871842, 4.701701], [50.871699, 4.701782], [50.871654, 4.701505], [50.871362, 4.701624], [50.871247, 4.701702], [50.871037, 4.701908], [50.870804, 4.702261], [50.869585, 4.703937]],\n",
       "                {&quot;bubblingMouseEvents&quot;: true, &quot;color&quot;: &quot;#3388ff&quot;, &quot;dashArray&quot;: null, &quot;dashOffset&quot;: null, &quot;fill&quot;: false, &quot;fillColor&quot;: &quot;#3388ff&quot;, &quot;fillOpacity&quot;: 0.2, &quot;fillRule&quot;: &quot;evenodd&quot;, &quot;lineCap&quot;: &quot;round&quot;, &quot;lineJoin&quot;: &quot;round&quot;, &quot;noClip&quot;: false, &quot;opacity&quot;: 1.0, &quot;smoothFactor&quot;: 1.0, &quot;stroke&quot;: true, &quot;weight&quot;: 3}\n",
       "            ).addTo(map_bab454b21d3498630c9d4716a4975d31);\n",
       "        \n",
       "    \n",
       "        var popup_9169f1140d049c58a2b2da6646518922 = L.popup({&quot;maxWidth&quot;: &quot;100%&quot;});\n",
       "\n",
       "        \n",
       "            \n",
       "                var html_224dcd48e5394151c01ac701d9259b7e = $(`&lt;div id=&quot;html_224dcd48e5394151c01ac701d9259b7e&quot; style=&quot;width: 100.0%; height: 100.0%;&quot;&gt;shortest&lt;/div&gt;`)[0];\n",
       "                popup_9169f1140d049c58a2b2da6646518922.setContent(html_224dcd48e5394151c01ac701d9259b7e);\n",
       "            \n",
       "        \n",
       "\n",
       "        poly_line_b3a96a67d20d301fe8deef9e1199e1bb.bindPopup(popup_9169f1140d049c58a2b2da6646518922)\n",
       "        ;\n",
       "\n",
       "        \n",
       "    \n",
       "&lt;/script&gt;\n",
       "&lt;/html&gt;\" style=\"position:absolute;width:100%;height:100%;left:0;top:0;border:none !important;\" allowfullscreen webkitallowfullscreen mozallowfullscreen></iframe></div></div>"
      ],
      "text/plain": [
       "<folium.folium.Map at 0x18e2c9bf100>"
      ]
     },
     "execution_count": 30,
     "metadata": {},
     "output_type": "execute_result"
    }
   ],
   "source": [
    "\n",
    "m = folium.Map(location=[lat_origin, lon_origin], tiles='cartodbpositron', zoom_start=13)\n",
    "\n",
    "folium.PolyLine(locations=[list(reversed(coord)) \n",
    "                           for coord in gps_points_osm], popup = 'shortest').add_to(m)\n",
    "m"
   ]
  },
  {
   "cell_type": "code",
   "execution_count": 31,
   "metadata": {},
   "outputs": [
    {
     "data": {
      "text/html": [
       "<div style=\"width:100%;\"><div style=\"position:relative;width:100%;height:0;padding-bottom:60%;\"><span style=\"color:#565656\">Make this Notebook Trusted to load map: File -> Trust Notebook</span><iframe srcdoc=\"&lt;!DOCTYPE html&gt;\n",
       "&lt;html&gt;\n",
       "&lt;head&gt;\n",
       "    \n",
       "    &lt;meta http-equiv=&quot;content-type&quot; content=&quot;text/html; charset=UTF-8&quot; /&gt;\n",
       "    \n",
       "        &lt;script&gt;\n",
       "            L_NO_TOUCH = false;\n",
       "            L_DISABLE_3D = false;\n",
       "        &lt;/script&gt;\n",
       "    \n",
       "    &lt;style&gt;html, body {width: 100%;height: 100%;margin: 0;padding: 0;}&lt;/style&gt;\n",
       "    &lt;style&gt;#map {position:absolute;top:0;bottom:0;right:0;left:0;}&lt;/style&gt;\n",
       "    &lt;script src=&quot;https://cdn.jsdelivr.net/npm/leaflet@1.9.3/dist/leaflet.js&quot;&gt;&lt;/script&gt;\n",
       "    &lt;script src=&quot;https://code.jquery.com/jquery-1.12.4.min.js&quot;&gt;&lt;/script&gt;\n",
       "    &lt;script src=&quot;https://cdn.jsdelivr.net/npm/bootstrap@5.2.2/dist/js/bootstrap.bundle.min.js&quot;&gt;&lt;/script&gt;\n",
       "    &lt;script src=&quot;https://cdnjs.cloudflare.com/ajax/libs/Leaflet.awesome-markers/2.0.2/leaflet.awesome-markers.js&quot;&gt;&lt;/script&gt;\n",
       "    &lt;link rel=&quot;stylesheet&quot; href=&quot;https://cdn.jsdelivr.net/npm/leaflet@1.9.3/dist/leaflet.css&quot;/&gt;\n",
       "    &lt;link rel=&quot;stylesheet&quot; href=&quot;https://cdn.jsdelivr.net/npm/bootstrap@5.2.2/dist/css/bootstrap.min.css&quot;/&gt;\n",
       "    &lt;link rel=&quot;stylesheet&quot; href=&quot;https://netdna.bootstrapcdn.com/bootstrap/3.0.0/css/bootstrap.min.css&quot;/&gt;\n",
       "    &lt;link rel=&quot;stylesheet&quot; href=&quot;https://cdn.jsdelivr.net/npm/@fortawesome/fontawesome-free@6.2.0/css/all.min.css&quot;/&gt;\n",
       "    &lt;link rel=&quot;stylesheet&quot; href=&quot;https://cdnjs.cloudflare.com/ajax/libs/Leaflet.awesome-markers/2.0.2/leaflet.awesome-markers.css&quot;/&gt;\n",
       "    &lt;link rel=&quot;stylesheet&quot; href=&quot;https://cdn.jsdelivr.net/gh/python-visualization/folium/folium/templates/leaflet.awesome.rotate.min.css&quot;/&gt;\n",
       "    \n",
       "            &lt;meta name=&quot;viewport&quot; content=&quot;width=device-width,\n",
       "                initial-scale=1.0, maximum-scale=1.0, user-scalable=no&quot; /&gt;\n",
       "            &lt;style&gt;\n",
       "                #map_bab454b21d3498630c9d4716a4975d31 {\n",
       "                    position: relative;\n",
       "                    width: 100.0%;\n",
       "                    height: 100.0%;\n",
       "                    left: 0.0%;\n",
       "                    top: 0.0%;\n",
       "                }\n",
       "                .leaflet-container { font-size: 1rem; }\n",
       "            &lt;/style&gt;\n",
       "        \n",
       "&lt;/head&gt;\n",
       "&lt;body&gt;\n",
       "    \n",
       "    \n",
       "            &lt;div class=&quot;folium-map&quot; id=&quot;map_bab454b21d3498630c9d4716a4975d31&quot; &gt;&lt;/div&gt;\n",
       "        \n",
       "&lt;/body&gt;\n",
       "&lt;script&gt;\n",
       "    \n",
       "    \n",
       "            var map_bab454b21d3498630c9d4716a4975d31 = L.map(\n",
       "                &quot;map_bab454b21d3498630c9d4716a4975d31&quot;,\n",
       "                {\n",
       "                    center: [50.87909176633831, 4.700335202277401],\n",
       "                    crs: L.CRS.EPSG3857,\n",
       "                    zoom: 13,\n",
       "                    zoomControl: true,\n",
       "                    preferCanvas: false,\n",
       "                }\n",
       "            );\n",
       "\n",
       "            \n",
       "\n",
       "        \n",
       "    \n",
       "            var tile_layer_d799fbe0b059a2cc8d6c46fcc6fa00c6 = L.tileLayer(\n",
       "                &quot;https://cartodb-basemaps-{s}.global.ssl.fastly.net/light_all/{z}/{x}/{y}.png&quot;,\n",
       "                {&quot;attribution&quot;: &quot;\\u0026copy; \\u003ca target=\\&quot;_blank\\&quot; href=\\&quot;http://www.openstreetmap.org/copyright\\&quot;\\u003eOpenStreetMap\\u003c/a\\u003e contributors \\u0026copy; \\u003ca target=\\&quot;_blank\\&quot; href=\\&quot;http://cartodb.com/attributions\\&quot;\\u003eCartoDB\\u003c/a\\u003e, CartoDB \\u003ca target=\\&quot;_blank\\&quot; href =\\&quot;http://cartodb.com/attributions\\&quot;\\u003eattributions\\u003c/a\\u003e&quot;, &quot;detectRetina&quot;: false, &quot;maxNativeZoom&quot;: 18, &quot;maxZoom&quot;: 18, &quot;minZoom&quot;: 0, &quot;noWrap&quot;: false, &quot;opacity&quot;: 1, &quot;subdomains&quot;: &quot;abc&quot;, &quot;tms&quot;: false}\n",
       "            ).addTo(map_bab454b21d3498630c9d4716a4975d31);\n",
       "        \n",
       "    \n",
       "            var poly_line_b3a96a67d20d301fe8deef9e1199e1bb = L.polyline(\n",
       "                [[50.879639, 4.700442], [50.879761, 4.700479], [50.879825, 4.700541], [50.88003, 4.700077], [50.880562, 4.698901], [50.880743, 4.698509], [50.88079, 4.69841], [50.880734, 4.698318], [50.88067, 4.698212], [50.880628, 4.698141], [50.880537, 4.698248], [50.880463, 4.698314], [50.880367, 4.698363], [50.880208, 4.698393], [50.880137, 4.69839], [50.879993, 4.698356], [50.879832, 4.698246], [50.87995, 4.69792], [50.88013, 4.6974], [50.880183, 4.697181], [50.88035, 4.69614], [50.880395, 4.695871], [50.880427, 4.695674], [50.880462, 4.69547], [50.880477, 4.69534], [50.880559, 4.694644], [50.880598, 4.694265], [50.880646, 4.693592], [50.880547, 4.693587], [50.880344, 4.693395], [50.879971, 4.693041], [50.879514, 4.692534], [50.879083, 4.692177], [50.877837, 4.691373], [50.877597, 4.692634], [50.877522, 4.693411], [50.877478, 4.693895], [50.877479, 4.693984], [50.87761, 4.694937], [50.877625, 4.695104], [50.877655, 4.695538], [50.877679, 4.696485], [50.877636, 4.697066], [50.877574, 4.697476], [50.878026, 4.697721], [50.878091, 4.697769], [50.878103, 4.697829], [50.877865, 4.698597], [50.877598, 4.698429], [50.877362, 4.698295], [50.876177, 4.697694], [50.876136, 4.697696], [50.876032, 4.697708], [50.875905, 4.697719], [50.875787, 4.697678], [50.875563, 4.697665], [50.875267, 4.697726], [50.875121, 4.697817], [50.874852, 4.698031], [50.874589, 4.698122], [50.874294, 4.698167], [50.874039, 4.698168], [50.872873, 4.698115], [50.872822, 4.699802], [50.872713, 4.699771], [50.872704, 4.700534], [50.872634, 4.700542], [50.872627, 4.700606], [50.872583, 4.700704], [50.872354, 4.70082], [50.872317, 4.70091], [50.872305, 4.701019], [50.872316, 4.701276], [50.872307, 4.701372], [50.872283, 4.701431], [50.871938, 4.701568], [50.871897, 4.701586], [50.871849, 4.70165], [50.871842, 4.701701], [50.871699, 4.701782], [50.871654, 4.701505], [50.871362, 4.701624], [50.871247, 4.701702], [50.871037, 4.701908], [50.870804, 4.702261], [50.869585, 4.703937]],\n",
       "                {&quot;bubblingMouseEvents&quot;: true, &quot;color&quot;: &quot;#3388ff&quot;, &quot;dashArray&quot;: null, &quot;dashOffset&quot;: null, &quot;fill&quot;: false, &quot;fillColor&quot;: &quot;#3388ff&quot;, &quot;fillOpacity&quot;: 0.2, &quot;fillRule&quot;: &quot;evenodd&quot;, &quot;lineCap&quot;: &quot;round&quot;, &quot;lineJoin&quot;: &quot;round&quot;, &quot;noClip&quot;: false, &quot;opacity&quot;: 1.0, &quot;smoothFactor&quot;: 1.0, &quot;stroke&quot;: true, &quot;weight&quot;: 3}\n",
       "            ).addTo(map_bab454b21d3498630c9d4716a4975d31);\n",
       "        \n",
       "    \n",
       "        var popup_9169f1140d049c58a2b2da6646518922 = L.popup({&quot;maxWidth&quot;: &quot;100%&quot;});\n",
       "\n",
       "        \n",
       "            \n",
       "                var html_224dcd48e5394151c01ac701d9259b7e = $(`&lt;div id=&quot;html_224dcd48e5394151c01ac701d9259b7e&quot; style=&quot;width: 100.0%; height: 100.0%;&quot;&gt;shortest&lt;/div&gt;`)[0];\n",
       "                popup_9169f1140d049c58a2b2da6646518922.setContent(html_224dcd48e5394151c01ac701d9259b7e);\n",
       "            \n",
       "        \n",
       "\n",
       "        poly_line_b3a96a67d20d301fe8deef9e1199e1bb.bindPopup(popup_9169f1140d049c58a2b2da6646518922)\n",
       "        ;\n",
       "\n",
       "        \n",
       "    \n",
       "    \n",
       "            var poly_line_9f48455c11bff6055e580a4c84e57c29 = L.polyline(\n",
       "                [[50.879639, 4.700442], [50.879761, 4.700479], [50.879825, 4.700541], [50.88003, 4.700077], [50.880562, 4.698901], [50.880743, 4.698509], [50.88079, 4.69841], [50.880734, 4.698318], [50.88067, 4.698212], [50.880628, 4.698141], [50.880537, 4.698248], [50.880463, 4.698314], [50.880367, 4.698363], [50.880208, 4.698393], [50.880137, 4.69839], [50.879993, 4.698356], [50.879832, 4.698246], [50.87995, 4.69792], [50.88013, 4.6974], [50.880183, 4.697181], [50.88035, 4.69614], [50.880395, 4.695871], [50.880427, 4.695674], [50.880462, 4.69547], [50.880477, 4.69534], [50.880559, 4.694644], [50.880598, 4.694265], [50.880646, 4.693592], [50.880547, 4.693587], [50.880344, 4.693395], [50.879971, 4.693041], [50.879514, 4.692534], [50.879083, 4.692177], [50.877837, 4.691373], [50.877749, 4.69129], [50.877447, 4.690888], [50.877359, 4.690811], [50.877281, 4.690781], [50.876642, 4.690681], [50.875774, 4.690686], [50.874822, 4.691139], [50.874153, 4.691491], [50.874055, 4.691492], [50.873152, 4.691325], [50.872793, 4.691255], [50.872727, 4.691201], [50.872625, 4.691119], [50.872555, 4.69098], [50.872382, 4.690757], [50.872083, 4.690485], [50.871953, 4.690664], [50.871695, 4.691031], [50.871613, 4.691146], [50.871464, 4.691383], [50.871006, 4.692109], [50.870635, 4.692703], [50.870427, 4.693067], [50.87037, 4.693175], [50.870237, 4.693428], [50.870007, 4.693911], [50.869987, 4.694012], [50.869855, 4.694362], [50.869733, 4.694741], [50.869015, 4.697328], [50.868804, 4.698081], [50.868639, 4.69848], [50.86876, 4.69866], [50.868833, 4.698719], [50.869278, 4.699046], [50.869602, 4.699165], [50.869734, 4.699192], [50.869837, 4.699215], [50.869988, 4.699241], [50.870215, 4.699287], [50.871012, 4.699436], [50.871414, 4.699504], [50.871491, 4.700396], [50.871587, 4.701081], [50.871654, 4.701505], [50.871362, 4.701624], [50.871247, 4.701702], [50.871037, 4.701908], [50.870804, 4.702261], [50.869585, 4.703937]],\n",
       "                {&quot;bubblingMouseEvents&quot;: true, &quot;color&quot;: &quot;red&quot;, &quot;dashArray&quot;: null, &quot;dashOffset&quot;: null, &quot;fill&quot;: false, &quot;fillColor&quot;: &quot;red&quot;, &quot;fillOpacity&quot;: 0.2, &quot;fillRule&quot;: &quot;evenodd&quot;, &quot;lineCap&quot;: &quot;round&quot;, &quot;lineJoin&quot;: &quot;round&quot;, &quot;noClip&quot;: false, &quot;opacity&quot;: 1.0, &quot;smoothFactor&quot;: 1.0, &quot;stroke&quot;: true, &quot;weight&quot;: 3}\n",
       "            ).addTo(map_bab454b21d3498630c9d4716a4975d31);\n",
       "        \n",
       "    \n",
       "        var popup_965617d3637f758324a05c8df8101299 = L.popup({&quot;maxWidth&quot;: &quot;100%&quot;});\n",
       "\n",
       "        \n",
       "            \n",
       "                var html_6ac87f239a922b8f890c15a64a9579b3 = $(`&lt;div id=&quot;html_6ac87f239a922b8f890c15a64a9579b3&quot; style=&quot;width: 100.0%; height: 100.0%;&quot;&gt;recommended&lt;/div&gt;`)[0];\n",
       "                popup_965617d3637f758324a05c8df8101299.setContent(html_6ac87f239a922b8f890c15a64a9579b3);\n",
       "            \n",
       "        \n",
       "\n",
       "        poly_line_9f48455c11bff6055e580a4c84e57c29.bindPopup(popup_965617d3637f758324a05c8df8101299)\n",
       "        ;\n",
       "\n",
       "        \n",
       "    \n",
       "&lt;/script&gt;\n",
       "&lt;/html&gt;\" style=\"position:absolute;width:100%;height:100%;left:0;top:0;border:none !important;\" allowfullscreen webkitallowfullscreen mozallowfullscreen></iframe></div></div>"
      ],
      "text/plain": [
       "<folium.folium.Map at 0x18e2c9bf100>"
      ]
     },
     "execution_count": 31,
     "metadata": {},
     "output_type": "execute_result"
    }
   ],
   "source": [
    "x_origin, y_origin = e_origin.getFromNode().getCoord()\n",
    "lon_origin, lat_origin = net.convertXY2LonLat(x_origin, y_origin)\n",
    "\n",
    "\n",
    "x_dest, y_dest = e_destination.getFromNode().getCoord()\n",
    "lon_dest, lat_dest = net.convertXY2LonLat(x_dest, y_dest)\n",
    "\n",
    "coordinates = [[lon_origin, lat_origin], [lon_dest, lat_dest]]\n",
    "client = ors.Client(key=YOUR_KEY)\n",
    "\n",
    "\n",
    "route_osm = client.directions(\n",
    "        coordinates=coordinates,\n",
    "        profile='driving-car',\n",
    "        preference=\"recommended\",\n",
    "        format='geojson',\n",
    "        geometry_simplify=False,\n",
    "        validate=True)\n",
    "\n",
    "# extract the GPS points (lon, lat) of the fastest route\n",
    "gps_points_osm_recom = [coord for coord in route_osm['features'][0]['geometry']['coordinates']]\n",
    "\n",
    "\n",
    "folium.PolyLine(locations=[list(reversed(coord)) \n",
    "                           for coord in gps_points_osm_recom], color='red', popup='recommended').add_to(m)\n",
    "m"
   ]
  }
 ],
 "metadata": {
  "kernelspec": {
   "display_name": "skmob",
   "language": "python",
   "name": "python3"
  },
  "language_info": {
   "codemirror_mode": {
    "name": "ipython",
    "version": 3
   },
   "file_extension": ".py",
   "mimetype": "text/x-python",
   "name": "python",
   "nbconvert_exporter": "python",
   "pygments_lexer": "ipython3",
   "version": "3.9.18"
  }
 },
 "nbformat": 4,
 "nbformat_minor": 2
}
